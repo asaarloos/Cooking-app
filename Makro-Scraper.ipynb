{
 "cells": [
  {
   "cell_type": "markdown",
   "metadata": {},
   "source": [
    "# This code is for the cooking app"
   ]
  },
  {
   "cell_type": "markdown",
   "metadata": {},
   "source": [
    "blalalala"
   ]
  },
  {
   "cell_type": "code",
   "execution_count": 15,
   "metadata": {},
   "outputs": [
    {
     "name": "stdout",
     "output_type": "stream",
     "text": [
      "Requirement already satisfied: webdriver_manager in c:\\users\\ashle\\anaconda3\\lib\\site-packages (4.0.2)\n",
      "Requirement already satisfied: requests in c:\\users\\ashle\\anaconda3\\lib\\site-packages (from webdriver_manager) (2.32.3)\n",
      "Requirement already satisfied: python-dotenv in c:\\users\\ashle\\anaconda3\\lib\\site-packages (from webdriver_manager) (0.21.0)\n",
      "Requirement already satisfied: packaging in c:\\users\\ashle\\anaconda3\\lib\\site-packages (from webdriver_manager) (23.2)\n",
      "Requirement already satisfied: charset-normalizer<4,>=2 in c:\\users\\ashle\\anaconda3\\lib\\site-packages (from requests->webdriver_manager) (2.0.4)\n",
      "Requirement already satisfied: idna<4,>=2.5 in c:\\users\\ashle\\anaconda3\\lib\\site-packages (from requests->webdriver_manager) (3.7)\n",
      "Requirement already satisfied: urllib3<3,>=1.21.1 in c:\\users\\ashle\\anaconda3\\lib\\site-packages (from requests->webdriver_manager) (2.2.2)\n",
      "Requirement already satisfied: certifi>=2017.4.17 in c:\\users\\ashle\\anaconda3\\lib\\site-packages (from requests->webdriver_manager) (2024.7.4)\n",
      "Requirement already satisfied: selenium in c:\\users\\ashle\\anaconda3\\lib\\site-packages (4.25.0)\n",
      "Requirement already satisfied: urllib3<3,>=1.26 in c:\\users\\ashle\\anaconda3\\lib\\site-packages (from urllib3[socks]<3,>=1.26->selenium) (2.2.2)\n",
      "Requirement already satisfied: trio~=0.17 in c:\\users\\ashle\\anaconda3\\lib\\site-packages (from selenium) (0.26.2)\n",
      "Requirement already satisfied: trio-websocket~=0.9 in c:\\users\\ashle\\anaconda3\\lib\\site-packages (from selenium) (0.11.1)\n",
      "Requirement already satisfied: certifi>=2021.10.8 in c:\\users\\ashle\\anaconda3\\lib\\site-packages (from selenium) (2024.7.4)\n",
      "Requirement already satisfied: typing_extensions~=4.9 in c:\\users\\ashle\\anaconda3\\lib\\site-packages (from selenium) (4.11.0)\n",
      "Requirement already satisfied: websocket-client~=1.8 in c:\\users\\ashle\\anaconda3\\lib\\site-packages (from selenium) (1.8.0)\n",
      "Requirement already satisfied: attrs>=23.2.0 in c:\\users\\ashle\\anaconda3\\lib\\site-packages (from trio~=0.17->selenium) (24.2.0)\n",
      "Requirement already satisfied: sortedcontainers in c:\\users\\ashle\\anaconda3\\lib\\site-packages (from trio~=0.17->selenium) (2.4.0)\n",
      "Requirement already satisfied: idna in c:\\users\\ashle\\anaconda3\\lib\\site-packages (from trio~=0.17->selenium) (3.7)\n",
      "Requirement already satisfied: outcome in c:\\users\\ashle\\anaconda3\\lib\\site-packages (from trio~=0.17->selenium) (1.3.0.post0)\n",
      "Requirement already satisfied: sniffio>=1.3.0 in c:\\users\\ashle\\anaconda3\\lib\\site-packages (from trio~=0.17->selenium) (1.3.0)\n",
      "Requirement already satisfied: cffi>=1.14 in c:\\users\\ashle\\anaconda3\\lib\\site-packages (from trio~=0.17->selenium) (1.16.0)\n",
      "Requirement already satisfied: wsproto>=0.14 in c:\\users\\ashle\\anaconda3\\lib\\site-packages (from trio-websocket~=0.9->selenium) (1.2.0)\n",
      "Requirement already satisfied: pysocks!=1.5.7,<2.0,>=1.5.6 in c:\\users\\ashle\\anaconda3\\lib\\site-packages (from urllib3[socks]<3,>=1.26->selenium) (1.7.1)\n",
      "Requirement already satisfied: pycparser in c:\\users\\ashle\\anaconda3\\lib\\site-packages (from cffi>=1.14->trio~=0.17->selenium) (2.21)\n",
      "Requirement already satisfied: h11<1,>=0.9.0 in c:\\users\\ashle\\anaconda3\\lib\\site-packages (from wsproto>=0.14->trio-websocket~=0.9->selenium) (0.14.0)\n"
     ]
    }
   ],
   "source": [
    "!pip3 install webdriver_manager\n",
    "!pip3 install selenium\n",
    "\n",
    "from selenium import webdriver\n",
    "from selenium.webdriver.chrome.service import Service\n",
    "from webdriver_manager.chrome import ChromeDriverManager\n",
    "from bs4 import BeautifulSoup\n",
    "\n"
   ]
  },
  {
   "cell_type": "code",
   "execution_count": 21,
   "metadata": {},
   "outputs": [],
   "source": [
    "# Setting up Chrome WebDriver with WebDriver Manager using Service\n",
    "service = Service(ChromeDriverManager().install())\n",
    "driver = webdriver.Chrome(service=service)\n",
    "\n",
    "\n",
    "url = \"https://producten.makro.nl/shop/category/food/dkw\"\n",
    "driver.get(url)\n",
    "driver.implicitly_wait(10)"
   ]
  },
  {
   "cell_type": "code",
   "execution_count": 23,
   "metadata": {},
   "outputs": [
    {
     "name": "stdout",
     "output_type": "stream",
     "text": [
      "Cookie acceptance button not found or could not be clicked: Message: no such element: Unable to locate element: {\"method\":\"css selector\",\"selector\":\".accept-btn.btn-primary.field-accept-button-name\"}\n",
      "  (Session info: chrome=129.0.6668.90); For documentation on this error, please visit: https://www.selenium.dev/documentation/webdriver/troubleshooting/errors#no-such-element-exception\n",
      "Stacktrace:\n",
      "\tGetHandleVerifier [0x01077143+25587]\n",
      "\t(No symbol) [0x0100A2E4]\n",
      "\t(No symbol) [0x00F02113]\n",
      "\t(No symbol) [0x00F46F62]\n",
      "\t(No symbol) [0x00F471AB]\n",
      "\t(No symbol) [0x00F87852]\n",
      "\t(No symbol) [0x00F6ABE4]\n",
      "\t(No symbol) [0x00F85370]\n",
      "\t(No symbol) [0x00F6A936]\n",
      "\t(No symbol) [0x00F3BA73]\n",
      "\t(No symbol) [0x00F3C4CD]\n",
      "\tGetHandleVerifier [0x01354C63+3030803]\n",
      "\tGetHandleVerifier [0x013A6B99+3366473]\n",
      "\tGetHandleVerifier [0x011095F2+624802]\n",
      "\tGetHandleVerifier [0x01110E6C+655644]\n",
      "\t(No symbol) [0x01012C9D]\n",
      "\t(No symbol) [0x0100FD68]\n",
      "\t(No symbol) [0x0100FF05]\n",
      "\t(No symbol) [0x01002336]\n",
      "\tBaseThreadInitThunk [0x76737BA9+25]\n",
      "\tRtlInitializeExceptionChain [0x7773C11B+107]\n",
      "\tRtlClearBits [0x7773C09F+191]\n",
      "\n"
     ]
    }
   ],
   "source": [
    "#Accepting cookies\n",
    "try:\n",
    "    # Use CSS_SELECTOR for multiple class names\n",
    "    accept_cookies_button = driver.find_element(By.CSS_SELECTOR, \".accept-btn.btn-primary.field-accept-button-name\")\n",
    "    accept_cookies_button.click()\n",
    "    print(\"Cookies accepted.\")\n",
    "except Exception as e:\n",
    "    print(\"Cookie acceptance button not found or could not be clicked:\", e)\n"
   ]
  },
  {
   "cell_type": "code",
   "execution_count": 14,
   "metadata": {},
   "outputs": [
    {
     "name": "stdout",
     "output_type": "stream",
     "text": [
      "No more results to load or button not found.\n"
     ]
    }
   ],
   "source": [
    "from selenium import webdriver\n",
    "from selenium.webdriver.common.by import By\n",
    "from selenium.webdriver.common.keys import Keys\n",
    "from selenium.webdriver.chrome.service import Service\n",
    "from selenium.webdriver.chrome.options import Options\n",
    "import time\n",
    "\n",
    "\n",
    "# A small utility to scroll down the page\n",
    "def scroll_down():\n",
    "    driver.find_element(By.TAG_NAME, \"body\").send_keys(Keys.END)\n",
    "    time.sleep(2)  # wait for content to load\n",
    "\n",
    "# Function to click the button\n",
    "def click_load_more_button():\n",
    "    try:\n",
    "        load_more_button = driver.find_element(By.XPATH, \"//button[contains(text(), 'Volgende 24 resultaten weergeven')]\")\n",
    "        if load_more_button.is_displayed():\n",
    "            load_more_button.click()\n",
    "            time.sleep(2)  # wait for new content to load\n",
    "            return True\n",
    "        else:\n",
    "            return False\n",
    "    except:\n",
    "        # If no button found or an error occurs, stop the loop\n",
    "        return False\n",
    "\n",
    "# Main loop to scroll and click until the button is no longer available\n",
    "while True:\n",
    "    scroll_down()\n",
    "    button_present = click_load_more_button()\n",
    "    if not button_present:\n",
    "        print(\"No more results to load or button not found.\")\n",
    "        break\n"
   ]
  }
 ],
 "metadata": {
  "kernelspec": {
   "display_name": "base",
   "language": "python",
   "name": "python3"
  },
  "language_info": {
   "codemirror_mode": {
    "name": "ipython",
    "version": 3
   },
   "file_extension": ".py",
   "mimetype": "text/x-python",
   "name": "python",
   "nbconvert_exporter": "python",
   "pygments_lexer": "ipython3",
   "version": "3.12.4"
  }
 },
 "nbformat": 4,
 "nbformat_minor": 2
}
